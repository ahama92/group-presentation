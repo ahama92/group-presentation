{
 "cells": [
  {
   "cell_type": "code",
   "execution_count": 1,
   "id": "7bd3ab7b-14d7-4a87-9b5a-d67a44ea6101",
   "metadata": {
    "tags": [
     "parameters"
    ]
   },
   "outputs": [],
   "source": [
    "# This cell is tagged as parameters.\n",
    "name = 'Michael'"
   ]
  },
  {
   "cell_type": "code",
   "execution_count": 2,
   "id": "ed3c1595-1fa0-4153-b8a2-a66aaaa3d633",
   "metadata": {},
   "outputs": [
    {
     "name": "stdout",
     "output_type": "stream",
     "text": [
      "Hi there, Michael!\n"
     ]
    }
   ],
   "source": [
    "print(f'Hi there, {name}!')"
   ]
  }
 ],
 "metadata": {
  "celltoolbar": "Tags",
  "kernelspec": {
   "display_name": "Python 3",
   "language": "python",
   "name": "python3"
  },
  "language_info": {
   "codemirror_mode": {
    "name": "ipython",
    "version": 3
   },
   "file_extension": ".py",
   "mimetype": "text/x-python",
   "name": "python",
   "nbconvert_exporter": "python",
   "pygments_lexer": "ipython3",
   "version": "3.8.10"
  }
 },
 "nbformat": 4,
 "nbformat_minor": 5
}
