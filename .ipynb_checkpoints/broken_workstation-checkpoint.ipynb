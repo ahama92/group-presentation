{
 "cells": [
  {
   "cell_type": "markdown",
   "id": "5ab94cf6-fe4d-43bf-bf97-8bfe6e87ed5b",
   "metadata": {},
   "source": [
    "# Kernel Panic!\n",
    "\n",
    "*Credit:* I received discussion, ideas, and consultation from Michael to solve this issue.\\*"
   ]
  },
  {
   "cell_type": "markdown",
   "id": "c38b9138-3a6b-4d1c-a572-7d0d96315645",
   "metadata": {},
   "source": [
    "One day, after rebooting my workstation I was getting the following error without any reason.\n",
    "\n",
    "<img src=\"./images/panic.jpg\" style=\"height:800px\"/>"
   ]
  },
  {
   "cell_type": "markdown",
   "id": "320d2dfb-2ba5-4e40-94ea-0bee9c6a1cbe",
   "metadata": {},
   "source": [
    "### Some quotes,\n",
    "\n",
    "Someone on [askubuntu.com/](https://askubuntu.com/) says,\n",
    "```\n",
    "\"Having a nightmare today.\"\n",
    "```\n",
    "\n",
    "Someone else on [ubuntuforums.org/](https://ubuntuforums.org/),\n",
    "```\n",
    "\"I'm stuck with an unbootable system after my latest update required me to reboot. HELP???\"\n",
    "```\n"
   ]
  },
  {
   "cell_type": "markdown",
   "id": "c5fd3d08-0c4f-4c11-ae70-5805788a83d1",
   "metadata": {},
   "source": [
    "### What is going on?\n",
    "\n",
    "The boot configuration is missing the `initrd` file.\n",
    "\n",
    "During a boot, linux first unpacks the `initrd` into a ramdisk, and uses that for a temporary root device. That root device has an init program that transfers control from the kernel to software on the ramdisk, which then identifies peripherals and loads any needed drivers for those peripherals (specifically the real root device, and the filesystem of that device).\n",
    "\n",
    "None of the recovery options were working."
   ]
  },
  {
   "cell_type": "markdown",
   "id": "d08f0c31-419c-42a6-9e9d-98f28d11601d",
   "metadata": {},
   "source": [
    "### Is there any hope?\n",
    "\n",
    "One possible solution was to wipe everything from my pc and install a fresh copy of Linux.\n",
    "\n",
    "However, that was not good enough!"
   ]
  },
  {
   "cell_type": "markdown",
   "id": "ae3183e4-3768-45cc-a2cb-697965f98997",
   "metadata": {},
   "source": [
    "### What do we do then?\n",
    "\n",
    "Let's have a look at the actual hard drive on my workstation.\n",
    "\n",
    "<img src=\"./images/lsblk.jpg\" style=\"height:800px\"/>\n",
    "\n",
    "Notice there are two physical hard drives (instead of one) working together in RAID1."
   ]
  },
  {
   "cell_type": "markdown",
   "id": "782c8f69-6108-4ba6-b8ff-9b208e95b587",
   "metadata": {},
   "source": [
    "Let's look inside this drive.\n",
    "\n",
    "<img src=\"./images/hard1.jpg\" style=\"height:800px\"/>\n",
    "\n",
    "Note that hard drive `A` is in the broken state."
   ]
  },
  {
   "cell_type": "markdown",
   "id": "234ae30a-d4f6-4f76-a8cb-fb992567afb4",
   "metadata": {},
   "source": [
    "### My approach\n",
    "\n",
    "- Use a bootable flash drive to run a working version of Linux."
   ]
  },
  {
   "cell_type": "markdown",
   "id": "3503451b-bbea-4dc9-b262-9c8ad770966c",
   "metadata": {},
   "source": [
    "Here is a photo of the flash drive and the system files.\n",
    "\n",
    "<img src=\"./images/flash.jpg\" style=\"height:400px\"/>\n",
    "\n",
    "<img src=\"./images/hard2.jpg\" style=\"height:800px\"/>\n",
    "\n",
    "Note that hard drive `B` is in working conditions and I was able to boot Linux from the flash drive."
   ]
  },
  {
   "cell_type": "markdown",
   "id": "8906a681-f0a2-4645-8e28-c26c3917a45c",
   "metadata": {},
   "source": [
    "- Start the arrays (assemble the two seemingly broken drives in the pc),\n",
    "```shell\n",
    "mdadm --assemble --scan\n",
    "cat /proc/mdstat\n",
    "```\n",
    "\n",
    "\n",
    "- Mount the assembled array,\n",
    "```shell\n",
    "mount /dev/md0 /mnt/\n",
    "```\n",
    "\n",
    "Notice that we are mounting the broken drive `A` onto a directory called `/mnt/` on drive `B`.\n",
    "\n",
    "\n",
    "- Mount the following three directories (from Drive `B` onto /mnt/ on the same drive),\n",
    "```shell\n",
    "mount --bind /dev /mnt/dev\n",
    "mount --bind /proc /mnt/proc\n",
    "mount --bind /sys /mnt/sys\n",
    "```\n",
    "\n",
    "\n",
    "- chroot into the directory `/mnt/` on `B`,\n",
    "```shell\n",
    "chroot /mnt\n",
    "```\n",
    "\n",
    "\n",
    "- Now the system that was working on `B` thinks it has a few broken components (these broken components are actually from `A`, but we tricked the os on `B` into thinking otherwise). **The system has a new identity!**\n",
    "\n",
    "\n",
    "- Now we can actually tell the (tricked) Linux to fix itself. In my case I had to do the following repairs,\n",
    "```shell\n",
    "apt install --reinstall linux-generic\n",
    "update-grub\n",
    "```\n",
    "\n",
    "\n",
    "- Now you can exit the chroot environment and unmount.\n",
    "```shell\n",
    "exit\n",
    "umount /mnt/dev\n",
    "umount /mnt/proc\n",
    "umount /mnt/sys\n",
    "umount /mnt\n",
    "```\n",
    "\n",
    "\n",
    "- Reboot the system, remove the flash drive, and watch your system boot up!"
   ]
  },
  {
   "cell_type": "markdown",
   "id": "d18a825f-087e-41d8-814f-5625ffdf27c9",
   "metadata": {},
   "source": [
    "So, if you have problems with your Linux workstations, just let me know."
   ]
  }
 ],
 "metadata": {
  "kernelspec": {
   "display_name": "Python 3 (ipykernel)",
   "language": "python",
   "name": "python3"
  },
  "language_info": {
   "codemirror_mode": {
    "name": "ipython",
    "version": 3
   },
   "file_extension": ".py",
   "mimetype": "text/x-python",
   "name": "python",
   "nbconvert_exporter": "python",
   "pygments_lexer": "ipython3",
   "version": "3.9.5"
  }
 },
 "nbformat": 4,
 "nbformat_minor": 5
}
