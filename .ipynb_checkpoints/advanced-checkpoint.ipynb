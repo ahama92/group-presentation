{
 "cells": [
  {
   "cell_type": "markdown",
   "metadata": {},
   "source": [
    "# Introduction to Jupyter Notebooks\n",
    "\n",
    "This note book is partly copied from [here](https://www.dataquest.io/blog/advanced-jupyter-notebooks-tutorial/).\n",
    "\n",
    "## Shell Commands\n",
    "\n",
    "Any line starting with exclamation mark is executed as a shell command."
   ]
  },
  {
   "cell_type": "code",
   "execution_count": 28,
   "metadata": {},
   "outputs": [
    {
     "name": "stdout",
     "output_type": "stream",
     "text": [
      "Hello World!!\n"
     ]
    }
   ],
   "source": [
    "!echo Hello World!!"
   ]
  },
  {
   "cell_type": "code",
   "execution_count": 29,
   "metadata": {},
   "outputs": [
    {
     "name": "stdout",
     "output_type": "stream",
     "text": [
      "pandas==1.3.3\n",
      "pandas-profiling @ file:///home/conda/feedstock_root/build_artifacts/pandas-profiling_1620781969337/work\n"
     ]
    }
   ],
   "source": [
    "# Output installed packages in requirements format.\n",
    "!pip freeze | grep pandas"
   ]
  },
  {
   "cell_type": "code",
   "execution_count": 30,
   "metadata": {},
   "outputs": [
    {
     "name": "stdout",
     "output_type": "stream",
     "text": [
      "Python 3.9.7\n",
      "Model name:                      Intel(R) Core(TM) i7-4790 CPU @ 3.60GHz\n",
      "/home/ahama/Downloads/group-presentation\n"
     ]
    }
   ],
   "source": [
    "# Multiple shell commands\n",
    "!python --version\n",
    "!lscpu | grep name\n",
    "!pwd"
   ]
  },
  {
   "cell_type": "code",
   "execution_count": 31,
   "metadata": {},
   "outputs": [
    {
     "name": "stdout",
     "output_type": "stream",
     "text": [
      "This is nice.\n"
     ]
    }
   ],
   "source": [
    "string = \"This is nice.\"\n",
    "!echo $string"
   ]
  },
  {
   "cell_type": "markdown",
   "metadata": {},
   "source": [
    "**The shell in which ! commands are executed is discarded after execution completes.** So, commands like `cd` will have no effect."
   ]
  },
  {
   "cell_type": "code",
   "execution_count": 32,
   "metadata": {},
   "outputs": [
    {
     "name": "stdout",
     "output_type": "stream",
     "text": [
      "/home/ahama/Downloads/group-presentation\n",
      "/home/ahama/Downloads/group-presentation\n"
     ]
    }
   ],
   "source": [
    "!pwd\n",
    "!cd ../\n",
    "!pwd"
   ]
  },
  {
   "cell_type": "markdown",
   "metadata": {},
   "source": [
    "## Basic Magics\n",
    "\n",
    "Magics are commands built into the IPython kernel that make it easier to perform tasks. They resemble unix commands, but in reality they are all implemented in Python.\n",
    "\n",
    "There are two categories,\n",
    "- Line magic (starts with a single percent character %)\n",
    "- Cell magic (starts with two percent characters %%)"
   ]
  },
  {
   "cell_type": "code",
   "execution_count": 33,
   "metadata": {},
   "outputs": [
    {
     "data": {
      "application/json": {
       "cell": {
        "!": "OSMagics",
        "HTML": "Other",
        "SVG": "Other",
        "bash": "Other",
        "capture": "ExecutionMagics",
        "debug": "ExecutionMagics",
        "file": "Other",
        "html": "DisplayMagics",
        "javascript": "DisplayMagics",
        "js": "DisplayMagics",
        "latex": "DisplayMagics",
        "markdown": "DisplayMagics",
        "perl": "Other",
        "prun": "ExecutionMagics",
        "pypy": "Other",
        "python": "Other",
        "python2": "Other",
        "python3": "Other",
        "ruby": "Other",
        "script": "ScriptMagics",
        "sh": "Other",
        "svg": "DisplayMagics",
        "sx": "OSMagics",
        "system": "OSMagics",
        "time": "ExecutionMagics",
        "timeit": "ExecutionMagics",
        "writefile": "OSMagics"
       },
       "line": {
        "alias": "OSMagics",
        "alias_magic": "BasicMagics",
        "autoawait": "AsyncMagics",
        "autocall": "AutoMagics",
        "automagic": "AutoMagics",
        "autosave": "KernelMagics",
        "bookmark": "OSMagics",
        "cat": "Other",
        "cd": "OSMagics",
        "clear": "KernelMagics",
        "colors": "BasicMagics",
        "conda": "PackagingMagics",
        "config": "ConfigMagics",
        "connect_info": "KernelMagics",
        "cp": "Other",
        "debug": "ExecutionMagics",
        "dhist": "OSMagics",
        "dirs": "OSMagics",
        "doctest_mode": "BasicMagics",
        "ed": "Other",
        "edit": "KernelMagics",
        "env": "OSMagics",
        "gui": "BasicMagics",
        "hist": "Other",
        "history": "HistoryMagics",
        "killbgscripts": "ScriptMagics",
        "ldir": "Other",
        "less": "KernelMagics",
        "lf": "Other",
        "lk": "Other",
        "ll": "Other",
        "load": "CodeMagics",
        "load_ext": "ExtensionMagics",
        "loadpy": "CodeMagics",
        "logoff": "LoggingMagics",
        "logon": "LoggingMagics",
        "logstart": "LoggingMagics",
        "logstate": "LoggingMagics",
        "logstop": "LoggingMagics",
        "ls": "Other",
        "lsmagic": "BasicMagics",
        "lx": "Other",
        "macro": "ExecutionMagics",
        "magic": "BasicMagics",
        "man": "KernelMagics",
        "matplotlib": "PylabMagics",
        "mkdir": "Other",
        "more": "KernelMagics",
        "mv": "Other",
        "notebook": "BasicMagics",
        "page": "BasicMagics",
        "pastebin": "CodeMagics",
        "pdb": "ExecutionMagics",
        "pdef": "NamespaceMagics",
        "pdoc": "NamespaceMagics",
        "pfile": "NamespaceMagics",
        "pinfo": "NamespaceMagics",
        "pinfo2": "NamespaceMagics",
        "pip": "PackagingMagics",
        "popd": "OSMagics",
        "pprint": "BasicMagics",
        "precision": "BasicMagics",
        "prun": "ExecutionMagics",
        "psearch": "NamespaceMagics",
        "psource": "NamespaceMagics",
        "pushd": "OSMagics",
        "pwd": "OSMagics",
        "pycat": "OSMagics",
        "pylab": "PylabMagics",
        "qtconsole": "KernelMagics",
        "quickref": "BasicMagics",
        "recall": "HistoryMagics",
        "rehashx": "OSMagics",
        "reload_ext": "ExtensionMagics",
        "rep": "Other",
        "rerun": "HistoryMagics",
        "reset": "NamespaceMagics",
        "reset_selective": "NamespaceMagics",
        "rm": "Other",
        "rmdir": "Other",
        "run": "ExecutionMagics",
        "save": "CodeMagics",
        "sc": "OSMagics",
        "set_env": "OSMagics",
        "store": "StoreMagics",
        "sx": "OSMagics",
        "system": "OSMagics",
        "tb": "ExecutionMagics",
        "time": "ExecutionMagics",
        "timeit": "ExecutionMagics",
        "unalias": "OSMagics",
        "unload_ext": "ExtensionMagics",
        "who": "NamespaceMagics",
        "who_ls": "NamespaceMagics",
        "whos": "NamespaceMagics",
        "xdel": "NamespaceMagics",
        "xmode": "BasicMagics"
       }
      },
      "text/plain": [
       "Available line magics:\n",
       "%alias  %alias_magic  %autoawait  %autocall  %automagic  %autosave  %bookmark  %cat  %cd  %clear  %colors  %conda  %config  %connect_info  %cp  %debug  %dhist  %dirs  %doctest_mode  %ed  %edit  %env  %gui  %hist  %history  %killbgscripts  %ldir  %less  %lf  %lk  %ll  %load  %load_ext  %loadpy  %logoff  %logon  %logstart  %logstate  %logstop  %ls  %lsmagic  %lx  %macro  %magic  %man  %matplotlib  %mkdir  %more  %mv  %notebook  %page  %pastebin  %pdb  %pdef  %pdoc  %pfile  %pinfo  %pinfo2  %pip  %popd  %pprint  %precision  %prun  %psearch  %psource  %pushd  %pwd  %pycat  %pylab  %qtconsole  %quickref  %recall  %rehashx  %reload_ext  %rep  %rerun  %reset  %reset_selective  %rm  %rmdir  %run  %save  %sc  %set_env  %store  %sx  %system  %tb  %time  %timeit  %unalias  %unload_ext  %who  %who_ls  %whos  %xdel  %xmode\n",
       "\n",
       "Available cell magics:\n",
       "%%!  %%HTML  %%SVG  %%bash  %%capture  %%debug  %%file  %%html  %%javascript  %%js  %%latex  %%markdown  %%perl  %%prun  %%pypy  %%python  %%python2  %%python3  %%ruby  %%script  %%sh  %%svg  %%sx  %%system  %%time  %%timeit  %%writefile\n",
       "\n",
       "Automagic is ON, % prefix IS NOT needed for line magics."
      ]
     },
     "execution_count": 33,
     "metadata": {},
     "output_type": "execute_result"
    }
   ],
   "source": [
    "%lsmagic"
   ]
  },
  {
   "cell_type": "code",
   "execution_count": 48,
   "metadata": {},
   "outputs": [
    {
     "data": {
      "application/javascript": [
       "IPython.notebook.set_autosave_interval(60000)"
      ]
     },
     "metadata": {},
     "output_type": "display_data"
    },
    {
     "name": "stdout",
     "output_type": "stream",
     "text": [
      "Autosaving every 60 seconds\n"
     ]
    }
   ],
   "source": [
    "# Autosave your notebook every 60 seconds.\n",
    "%autosave 60"
   ]
  },
  {
   "cell_type": "code",
   "execution_count": 35,
   "metadata": {},
   "outputs": [
    {
     "name": "stdout",
     "output_type": "stream",
     "text": [
      "H\n",
      "e\n",
      "l\n",
      "l\n",
      "o\n"
     ]
    }
   ],
   "source": [
    "%run script.py"
   ]
  },
  {
   "cell_type": "code",
   "execution_count": 38,
   "metadata": {},
   "outputs": [
    {
     "name": "stdout",
     "output_type": "stream",
     "text": [
      "CPU times: user 84.3 ms, sys: 0 ns, total: 84.3 ms\n",
      "Wall time: 83.1 ms\n"
     ]
    }
   ],
   "source": [
    "%%time\n",
    "\n",
    "import random\n",
    "\n",
    "for i in range(1000000):\n",
    "    random.random()"
   ]
  },
  {
   "cell_type": "code",
   "execution_count": 39,
   "metadata": {},
   "outputs": [
    {
     "name": "stdout",
     "output_type": "stream",
     "text": [
      "a\t b\t c\t i\t random\t s\t string\t \n"
     ]
    }
   ],
   "source": [
    "# List all the variables.\n",
    "%who"
   ]
  },
  {
   "cell_type": "code",
   "execution_count": 40,
   "metadata": {},
   "outputs": [
    {
     "name": "stdout",
     "output_type": "stream",
     "text": [
      "b\t c\t i\t \n"
     ]
    }
   ],
   "source": [
    "%who int"
   ]
  },
  {
   "cell_type": "code",
   "execution_count": 42,
   "metadata": {},
   "outputs": [
    {
     "name": "stdout",
     "output_type": "stream",
     "text": [
      "s\t string\t \n"
     ]
    }
   ],
   "source": [
    "%who str"
   ]
  },
  {
   "cell_type": "code",
   "execution_count": 45,
   "metadata": {},
   "outputs": [
    {
     "data": {
      "text/plain": [
       "\u001b[0;31mType:\u001b[0m        str\n",
       "\u001b[0;31mString form:\u001b[0m o\n",
       "\u001b[0;31mLength:\u001b[0m      1\n",
       "\u001b[0;31mDocstring:\u001b[0m  \n",
       "str(object='') -> str\n",
       "str(bytes_or_buffer[, encoding[, errors]]) -> str\n",
       "\n",
       "Create a new string object from the given object. If encoding or\n",
       "errors is specified, then the object must expose a data buffer\n",
       "that will be decoded using the given encoding and error handler.\n",
       "Otherwise, returns the result of object.__str__() (if defined)\n",
       "or repr(object).\n",
       "encoding defaults to sys.getdefaultencoding().\n",
       "errors defaults to 'strict'.\n"
      ]
     },
     "metadata": {},
     "output_type": "display_data"
    }
   ],
   "source": [
    "# Get detailed info about a variable.\n",
    "%pinfo s"
   ]
  },
  {
   "cell_type": "code",
   "execution_count": 57,
   "metadata": {},
   "outputs": [],
   "source": [
    "# Load the content of an external file."
   ]
  },
  {
   "cell_type": "code",
   "execution_count": 57,
   "metadata": {},
   "outputs": [],
   "source": [
    "# %load script.py\n",
    "string = 'Hello'\n",
    "\n",
    "for s in string:\n",
    "    print(s)"
   ]
  },
  {
   "cell_type": "code",
   "execution_count": 60,
   "metadata": {},
   "outputs": [
    {
     "name": "stdout",
     "output_type": "stream",
     "text": [
      "H\n",
      "e\n",
      "l\n",
      "l\n",
      "o\n"
     ]
    }
   ],
   "source": [
    "# Run an external file and diplay the output.\n",
    "%run script.py"
   ]
  },
  {
   "cell_type": "code",
   "execution_count": 66,
   "metadata": {},
   "outputs": [],
   "source": [
    "code = 'script-fancy.py'"
   ]
  },
  {
   "cell_type": "code",
   "execution_count": 67,
   "metadata": {},
   "outputs": [
    {
     "name": "stdout",
     "output_type": "stream",
     "text": [
      "['script-fancy.py']\n"
     ]
    }
   ],
   "source": [
    "%run $code"
   ]
  },
  {
   "cell_type": "code",
   "execution_count": 68,
   "metadata": {},
   "outputs": [
    {
     "name": "stdout",
     "output_type": "stream",
     "text": [
      "['script-fancy.py', '0', 'hi']\n"
     ]
    }
   ],
   "source": [
    "\n",
    "%run $code 0 'hi'"
   ]
  },
  {
   "cell_type": "markdown",
   "metadata": {},
   "source": [
    "## Debugging"
   ]
  },
  {
   "cell_type": "markdown",
   "metadata": {},
   "source": [
    "Use `pdb` (which is not the best option!). In the following raise an error and try these,\n",
    "- `h` for help.\n",
    "- `w` prints a stack trace.\n",
    "- `l` full list command, shows where we are in the code. You can use `l` with a number for the line.\n",
    "- `n` go to the next line of execution.\n",
    "- `c` leaves the debugger.\n",
    "- `s` step into a function.\n",
    "- `r` step to the end of the function.\n",
    "- `b` sets break points.\n",
    "- and Python. You can run python commands."
   ]
  },
  {
   "cell_type": "code",
   "execution_count": 10,
   "metadata": {},
   "outputs": [
    {
     "name": "stdout",
     "output_type": "stream",
     "text": [
      "> <ipython-input-10-31200b651f4b>(13)<module>()\n",
      "-> nested_loop()\n"
     ]
    },
    {
     "name": "stdin",
     "output_type": "stream",
     "text": [
      "(Pdb)  c\n"
     ]
    },
    {
     "name": "stdout",
     "output_type": "stream",
     "text": [
      "500\n",
      "x\n",
      "y\n",
      "z\n",
      "600\n",
      "x\n",
      "y\n",
      "z\n",
      "700\n",
      "x\n",
      "y\n",
      "z\n"
     ]
    }
   ],
   "source": [
    "num_list = [500, 600, 700]\n",
    "alpha_list = ['x', 'y', 'z']\n",
    "\n",
    "\n",
    "def nested_loop():\n",
    "    for number in num_list:\n",
    "        print(number)\n",
    "        for letter in alpha_list:\n",
    "            print(letter)\n",
    "\n",
    "if __name__ == '__main__':\n",
    "    import pdb; pdb.set_trace()\n",
    "    nested_loop()"
   ]
  },
  {
   "cell_type": "code",
   "execution_count": 16,
   "metadata": {},
   "outputs": [],
   "source": [
    "# Execute other languages."
   ]
  },
  {
   "cell_type": "code",
   "execution_count": 20,
   "metadata": {},
   "outputs": [
    {
     "data": {
      "text/latex": [
       "Einstein introduced this $E=mc^2$ equation.\n"
      ],
      "text/plain": [
       "<IPython.core.display.Latex object>"
      ]
     },
     "metadata": {},
     "output_type": "display_data"
    }
   ],
   "source": [
    "%%latex\n",
    "Einstein introduced this $E=mc^2$ equation."
   ]
  },
  {
   "cell_type": "markdown",
   "metadata": {},
   "source": [
    "## Configure Logging\n",
    "\n",
    "Display custom errors and warnings."
   ]
  },
  {
   "cell_type": "code",
   "execution_count": 1,
   "metadata": {},
   "outputs": [
    {
     "name": "stderr",
     "output_type": "stream",
     "text": [
      "ERROR:root:Be careful with your code!\n"
     ]
    }
   ],
   "source": [
    "import logging\n",
    "logging.error('Be careful with your code!')"
   ]
  },
  {
   "cell_type": "code",
   "execution_count": 2,
   "metadata": {},
   "outputs": [
    {
     "name": "stderr",
     "output_type": "stream",
     "text": [
      "WARNING:root:I said be careful\n"
     ]
    },
    {
     "name": "stdout",
     "output_type": "stream",
     "text": [
      "Hi there\n"
     ]
    }
   ],
   "source": [
    "# Errors and warnings are shown at the top of the output.\n",
    "print('Hi there')\n",
    "logging.warning('I said be careful')"
   ]
  },
  {
   "cell_type": "code",
   "execution_count": 6,
   "metadata": {},
   "outputs": [],
   "source": [
    "# Customize the format of these messages.\n",
    "logger = logging.getLogger()\n",
    "handler = logging.StreamHandler()\n",
    "formatter = logging.Formatter('%(levelname)s -> %(message)s')\n",
    "handler.setFormatter(formatter)\n",
    "\n",
    "# Override the default handler.\n",
    "logger.handlers = [handler]"
   ]
  },
  {
   "cell_type": "code",
   "execution_count": 7,
   "metadata": {},
   "outputs": [
    {
     "name": "stderr",
     "output_type": "stream",
     "text": [
      "ERROR -> I told you it's different\n"
     ]
    }
   ],
   "source": [
    "# Use\n",
    "logging.error('I told you it\\'s different')"
   ]
  },
  {
   "cell_type": "markdown",
   "metadata": {},
   "source": [
    "## Extensions\n",
    "\n",
    "[This official list](https://github.com/ipython/ipython/wiki/Extensions-Index) shows the list of extensions for Jupyter Notebooks. "
   ]
  },
  {
   "cell_type": "code",
   "execution_count": 1,
   "metadata": {},
   "outputs": [
    {
     "name": "stdout",
     "output_type": "stream",
     "text": [
      "Requirement already satisfied: jupyterlab-spellchecker in /home/ahama/.local/lib/python3.8/site-packages (0.7.2)\n",
      "Requirement already satisfied: jupyterlab~=3.0 in /home/ahama/.local/lib/python3.8/site-packages (from jupyterlab-spellchecker) (3.3.2)\n",
      "Requirement already satisfied: babel in /usr/lib/python3/dist-packages (from jupyterlab-spellchecker) (2.6.0)\n",
      "Requirement already satisfied: packaging in /usr/lib/python3/dist-packages (from jupyterlab~=3.0->jupyterlab-spellchecker) (20.3)\n",
      "Requirement already satisfied: jupyter-server~=1.4 in /home/ahama/.local/lib/python3.8/site-packages (from jupyterlab~=3.0->jupyterlab-spellchecker) (1.16.0)\n",
      "Requirement already satisfied: nbclassic~=0.2 in /home/ahama/.local/lib/python3.8/site-packages (from jupyterlab~=3.0->jupyterlab-spellchecker) (0.3.7)\n",
      "Requirement already satisfied: jupyterlab-server~=2.10 in /home/ahama/.local/lib/python3.8/site-packages (from jupyterlab~=3.0->jupyterlab-spellchecker) (2.12.0)\n",
      "Requirement already satisfied: ipython in /usr/lib/python3/dist-packages (from jupyterlab~=3.0->jupyterlab-spellchecker) (7.13.0)\n",
      "Requirement already satisfied: jinja2>=2.1 in /home/ahama/.local/lib/python3.8/site-packages (from jupyterlab~=3.0->jupyterlab-spellchecker) (3.0.1)\n",
      "Requirement already satisfied: tornado>=6.1.0 in /home/ahama/.local/lib/python3.8/site-packages (from jupyterlab~=3.0->jupyterlab-spellchecker) (6.1)\n",
      "Requirement already satisfied: jupyter-core in /usr/lib/python3/dist-packages (from jupyterlab~=3.0->jupyterlab-spellchecker) (4.6.3)\n",
      "Requirement already satisfied: pyzmq>=17 in /usr/lib/python3/dist-packages (from jupyter-server~=1.4->jupyterlab~=3.0->jupyterlab-spellchecker) (18.1.1)\n",
      "Requirement already satisfied: Send2Trash in /home/ahama/.local/lib/python3.8/site-packages (from jupyter-server~=1.4->jupyterlab~=3.0->jupyterlab-spellchecker) (1.8.0)\n",
      "Requirement already satisfied: nbformat>=5.2.0 in /home/ahama/.local/lib/python3.8/site-packages (from jupyter-server~=1.4->jupyterlab~=3.0->jupyterlab-spellchecker) (5.2.0)\n",
      "Requirement already satisfied: nbconvert>=6.4.4 in /home/ahama/.local/lib/python3.8/site-packages (from jupyter-server~=1.4->jupyterlab~=3.0->jupyterlab-spellchecker) (6.4.5)\n",
      "Requirement already satisfied: jupyter-client>=6.1.12 in /home/ahama/.local/lib/python3.8/site-packages (from jupyter-server~=1.4->jupyterlab~=3.0->jupyterlab-spellchecker) (7.2.0)\n",
      "Requirement already satisfied: prometheus-client in /home/ahama/.local/lib/python3.8/site-packages (from jupyter-server~=1.4->jupyterlab~=3.0->jupyterlab-spellchecker) (0.13.1)\n",
      "Requirement already satisfied: argon2-cffi in /home/ahama/.local/lib/python3.8/site-packages (from jupyter-server~=1.4->jupyterlab~=3.0->jupyterlab-spellchecker) (21.3.0)\n",
      "Requirement already satisfied: websocket-client in /home/ahama/.local/lib/python3.8/site-packages (from jupyter-server~=1.4->jupyterlab~=3.0->jupyterlab-spellchecker) (1.3.2)\n",
      "Requirement already satisfied: anyio>=3.1.0 in /home/ahama/.local/lib/python3.8/site-packages (from jupyter-server~=1.4->jupyterlab~=3.0->jupyterlab-spellchecker) (3.5.0)\n",
      "Requirement already satisfied: traitlets>=5.1.0 in /home/ahama/.local/lib/python3.8/site-packages (from jupyter-server~=1.4->jupyterlab~=3.0->jupyterlab-spellchecker) (5.1.1)\n",
      "Requirement already satisfied: terminado>=0.8.3 in /home/ahama/.local/lib/python3.8/site-packages (from jupyter-server~=1.4->jupyterlab~=3.0->jupyterlab-spellchecker) (0.13.3)\n",
      "Requirement already satisfied: notebook<7 in /home/ahama/.local/lib/python3.8/site-packages (from nbclassic~=0.2->jupyterlab~=3.0->jupyterlab-spellchecker) (6.4.10)\n",
      "Requirement already satisfied: notebook-shim>=0.1.0 in /home/ahama/.local/lib/python3.8/site-packages (from nbclassic~=0.2->jupyterlab~=3.0->jupyterlab-spellchecker) (0.1.0)\n",
      "Requirement already satisfied: jsonschema>=3.0.1 in /usr/lib/python3/dist-packages (from jupyterlab-server~=2.10->jupyterlab~=3.0->jupyterlab-spellchecker) (3.2.0)\n",
      "Requirement already satisfied: entrypoints>=0.2.2 in /usr/lib/python3/dist-packages (from jupyterlab-server~=2.10->jupyterlab~=3.0->jupyterlab-spellchecker) (0.3)\n",
      "Requirement already satisfied: json5 in /home/ahama/.local/lib/python3.8/site-packages (from jupyterlab-server~=2.10->jupyterlab~=3.0->jupyterlab-spellchecker) (0.9.6)\n",
      "Requirement already satisfied: requests in /home/ahama/.local/lib/python3.8/site-packages (from jupyterlab-server~=2.10->jupyterlab~=3.0->jupyterlab-spellchecker) (2.26.0)\n",
      "Requirement already satisfied: pexpect in /usr/lib/python3/dist-packages (from ipython->jupyterlab~=3.0->jupyterlab-spellchecker) (4.6.0)\n",
      "Requirement already satisfied: MarkupSafe>=2.0 in /home/ahama/.local/lib/python3.8/site-packages (from jinja2>=2.1->jupyterlab~=3.0->jupyterlab-spellchecker) (2.0.1)\n",
      "Requirement already satisfied: defusedxml in /usr/lib/python3/dist-packages (from nbconvert>=6.4.4->jupyter-server~=1.4->jupyterlab~=3.0->jupyterlab-spellchecker) (0.6.0)\n",
      "Requirement already satisfied: beautifulsoup4 in /usr/lib/python3/dist-packages (from nbconvert>=6.4.4->jupyter-server~=1.4->jupyterlab~=3.0->jupyterlab-spellchecker) (4.8.2)\n",
      "Requirement already satisfied: jupyterlab-pygments in /home/ahama/.local/lib/python3.8/site-packages (from nbconvert>=6.4.4->jupyter-server~=1.4->jupyterlab~=3.0->jupyterlab-spellchecker) (0.1.2)\n",
      "Requirement already satisfied: nbclient<0.6.0,>=0.5.0 in /home/ahama/.local/lib/python3.8/site-packages (from nbconvert>=6.4.4->jupyter-server~=1.4->jupyterlab~=3.0->jupyterlab-spellchecker) (0.5.13)\n",
      "Requirement already satisfied: mistune<2,>=0.8.1 in /usr/lib/python3/dist-packages (from nbconvert>=6.4.4->jupyter-server~=1.4->jupyterlab~=3.0->jupyterlab-spellchecker) (0.8.4)\n",
      "Requirement already satisfied: pandocfilters>=1.4.1 in /usr/lib/python3/dist-packages (from nbconvert>=6.4.4->jupyter-server~=1.4->jupyterlab~=3.0->jupyterlab-spellchecker) (1.4.2)\n",
      "Requirement already satisfied: pygments>=2.4.1 in /home/ahama/.local/lib/python3.8/site-packages (from nbconvert>=6.4.4->jupyter-server~=1.4->jupyterlab~=3.0->jupyterlab-spellchecker) (2.11.2)\n",
      "Requirement already satisfied: testpath in /usr/lib/python3/dist-packages (from nbconvert>=6.4.4->jupyter-server~=1.4->jupyterlab~=3.0->jupyterlab-spellchecker) (0.4.4)\n",
      "Requirement already satisfied: bleach in /usr/lib/python3/dist-packages (from nbconvert>=6.4.4->jupyter-server~=1.4->jupyterlab~=3.0->jupyterlab-spellchecker) (3.1.1)\n",
      "Requirement already satisfied: python-dateutil>=2.1 in /usr/lib/python3/dist-packages (from jupyter-client>=6.1.12->jupyter-server~=1.4->jupyterlab~=3.0->jupyterlab-spellchecker) (2.7.3)\n",
      "Requirement already satisfied: nest-asyncio>=1.5.1 in /home/ahama/.local/lib/python3.8/site-packages (from jupyter-client>=6.1.12->jupyter-server~=1.4->jupyterlab~=3.0->jupyterlab-spellchecker) (1.5.4)\n",
      "Requirement already satisfied: argon2-cffi-bindings in /home/ahama/.local/lib/python3.8/site-packages (from argon2-cffi->jupyter-server~=1.4->jupyterlab~=3.0->jupyterlab-spellchecker) (21.2.0)\n",
      "Requirement already satisfied: idna>=2.8 in /usr/lib/python3/dist-packages (from anyio>=3.1.0->jupyter-server~=1.4->jupyterlab~=3.0->jupyterlab-spellchecker) (2.8)\n",
      "Requirement already satisfied: sniffio>=1.1 in /home/ahama/.local/lib/python3.8/site-packages (from anyio>=3.1.0->jupyter-server~=1.4->jupyterlab~=3.0->jupyterlab-spellchecker) (1.2.0)\n",
      "Requirement already satisfied: ptyprocess; os_name != \"nt\" in /home/ahama/.local/lib/python3.8/site-packages (from terminado>=0.8.3->jupyter-server~=1.4->jupyterlab~=3.0->jupyterlab-spellchecker) (0.7.0)\n",
      "Requirement already satisfied: ipykernel in /usr/lib/python3/dist-packages (from notebook<7->nbclassic~=0.2->jupyterlab~=3.0->jupyterlab-spellchecker) (5.2.0)\n",
      "Requirement already satisfied: ipython-genutils in /usr/lib/python3/dist-packages (from notebook<7->nbclassic~=0.2->jupyterlab~=3.0->jupyterlab-spellchecker) (0.2.0)\n",
      "Requirement already satisfied: charset-normalizer~=2.0.0; python_version >= \"3\" in /home/ahama/.local/lib/python3.8/site-packages (from requests->jupyterlab-server~=2.10->jupyterlab~=3.0->jupyterlab-spellchecker) (2.0.6)\n",
      "Requirement already satisfied: certifi>=2017.4.17 in /usr/lib/python3/dist-packages (from requests->jupyterlab-server~=2.10->jupyterlab~=3.0->jupyterlab-spellchecker) (2019.11.28)\n",
      "Requirement already satisfied: urllib3<1.27,>=1.21.1 in /usr/lib/python3/dist-packages (from requests->jupyterlab-server~=2.10->jupyterlab~=3.0->jupyterlab-spellchecker) (1.25.8)\n",
      "Requirement already satisfied: cffi>=1.0.1 in /home/ahama/.local/lib/python3.8/site-packages (from argon2-cffi-bindings->argon2-cffi->jupyter-server~=1.4->jupyterlab~=3.0->jupyterlab-spellchecker) (1.15.0)\n",
      "Requirement already satisfied: pycparser in /home/ahama/.local/lib/python3.8/site-packages (from cffi>=1.0.1->argon2-cffi-bindings->argon2-cffi->jupyter-server~=1.4->jupyterlab~=3.0->jupyterlab-spellchecker) (2.21)\n",
      "Note: you may need to restart the kernel to use updated packages.\n"
     ]
    }
   ],
   "source": [
    "pip install jupyterlab-spellchecker"
   ]
  },
  {
   "cell_type": "markdown",
   "metadata": {},
   "source": [
    "## Plot with Seaborn"
   ]
  },
  {
   "cell_type": "code",
   "execution_count": 7,
   "metadata": {},
   "outputs": [],
   "source": [
    "import matplotlib.pyplot as plt\n",
    "import seaborn as sns\n",
    "\n",
    "data = sns.load_dataset(\"tips\")"
   ]
  },
  {
   "cell_type": "markdown",
   "metadata": {},
   "source": [
    "Seaborn provides [sample datasets](https://github.com/mwaskom/seaborn-data) for your convenience."
   ]
  },
  {
   "cell_type": "code",
   "execution_count": 8,
   "metadata": {},
   "outputs": [
    {
     "data": {
      "text/plain": [
       "pandas.core.frame.DataFrame"
      ]
     },
     "execution_count": 8,
     "metadata": {},
     "output_type": "execute_result"
    }
   ],
   "source": [
    "type(data)"
   ]
  },
  {
   "cell_type": "code",
   "execution_count": 9,
   "metadata": {},
   "outputs": [
    {
     "data": {
      "text/html": [
       "<div>\n",
       "<style scoped>\n",
       "    .dataframe tbody tr th:only-of-type {\n",
       "        vertical-align: middle;\n",
       "    }\n",
       "\n",
       "    .dataframe tbody tr th {\n",
       "        vertical-align: top;\n",
       "    }\n",
       "\n",
       "    .dataframe thead th {\n",
       "        text-align: right;\n",
       "    }\n",
       "</style>\n",
       "<table border=\"1\" class=\"dataframe\">\n",
       "  <thead>\n",
       "    <tr style=\"text-align: right;\">\n",
       "      <th></th>\n",
       "      <th>total_bill</th>\n",
       "      <th>tip</th>\n",
       "      <th>sex</th>\n",
       "      <th>smoker</th>\n",
       "      <th>day</th>\n",
       "      <th>time</th>\n",
       "      <th>size</th>\n",
       "    </tr>\n",
       "  </thead>\n",
       "  <tbody>\n",
       "    <tr>\n",
       "      <th>0</th>\n",
       "      <td>16.99</td>\n",
       "      <td>1.01</td>\n",
       "      <td>Female</td>\n",
       "      <td>No</td>\n",
       "      <td>Sun</td>\n",
       "      <td>Dinner</td>\n",
       "      <td>2</td>\n",
       "    </tr>\n",
       "    <tr>\n",
       "      <th>1</th>\n",
       "      <td>10.34</td>\n",
       "      <td>1.66</td>\n",
       "      <td>Male</td>\n",
       "      <td>No</td>\n",
       "      <td>Sun</td>\n",
       "      <td>Dinner</td>\n",
       "      <td>3</td>\n",
       "    </tr>\n",
       "    <tr>\n",
       "      <th>2</th>\n",
       "      <td>21.01</td>\n",
       "      <td>3.50</td>\n",
       "      <td>Male</td>\n",
       "      <td>No</td>\n",
       "      <td>Sun</td>\n",
       "      <td>Dinner</td>\n",
       "      <td>3</td>\n",
       "    </tr>\n",
       "    <tr>\n",
       "      <th>3</th>\n",
       "      <td>23.68</td>\n",
       "      <td>3.31</td>\n",
       "      <td>Male</td>\n",
       "      <td>No</td>\n",
       "      <td>Sun</td>\n",
       "      <td>Dinner</td>\n",
       "      <td>2</td>\n",
       "    </tr>\n",
       "    <tr>\n",
       "      <th>4</th>\n",
       "      <td>24.59</td>\n",
       "      <td>3.61</td>\n",
       "      <td>Female</td>\n",
       "      <td>No</td>\n",
       "      <td>Sun</td>\n",
       "      <td>Dinner</td>\n",
       "      <td>4</td>\n",
       "    </tr>\n",
       "  </tbody>\n",
       "</table>\n",
       "</div>"
      ],
      "text/plain": [
       "   total_bill   tip     sex smoker  day    time  size\n",
       "0       16.99  1.01  Female     No  Sun  Dinner     2\n",
       "1       10.34  1.66    Male     No  Sun  Dinner     3\n",
       "2       21.01  3.50    Male     No  Sun  Dinner     3\n",
       "3       23.68  3.31    Male     No  Sun  Dinner     2\n",
       "4       24.59  3.61  Female     No  Sun  Dinner     4"
      ]
     },
     "execution_count": 9,
     "metadata": {},
     "output_type": "execute_result"
    }
   ],
   "source": [
    "data.head()"
   ]
  },
  {
   "cell_type": "code",
   "execution_count": 12,
   "metadata": {},
   "outputs": [
    {
     "data": {
      "image/png": "[encoded data removed]",
      "text/plain": [
       "<Figure size 432x288 with 1 Axes>"
      ]
     },
     "metadata": {
      "needs_background": "light"
     },
     "output_type": "display_data"
    }
   ],
   "source": [
    "plt.scatter(data['total_bill'], data['tip'])\n",
    "plt.xlabel('Total bill')\n",
    "plt.ylabel('Tip amount')\n",
    "plt.title('Total bill versus the tip amount')\n",
    "plt.show()"
   ]
  },
  {
   "cell_type": "code",
   "execution_count": 18,
   "metadata": {},
   "outputs": [
    {
     "data": {
      "image/png": "[encoded data removed]",
      "text/plain": [
       "<Figure size 432x288 with 1 Axes>"
      ]
     },
     "metadata": {},
     "output_type": "display_data"
    }
   ],
   "source": [
    "sns.set(style = 'darkgrid')\n",
    "sns.scatterplot(x = 'total_bill', y = 'tip', data = data)\n",
    "plt.xlabel('Total bill')\n",
    "plt.ylabel('Tip amount')\n",
    "plt.title('Total bill versus the tip amount')\n",
    "plt.show()"
   ]
  },
  {
   "cell_type": "code",
   "execution_count": 21,
   "metadata": {},
   "outputs": [
    {
     "data": {
      "image/png": "[encoded data removed]",
      "text/plain": [
       "<Figure size 432x288 with 1 Axes>"
      ]
     },
     "metadata": {},
     "output_type": "display_data"
    }
   ],
   "source": [
    "sns.set(style = 'darkgrid')\n",
    "sns.scatterplot(x = 'total_bill', y = 'tip', hue = 'smoker', data = data)\n",
    "plt.xlabel('Total bill')\n",
    "plt.ylabel('Tip amount')\n",
    "plt.title('Total bill versus the tip amount')\n",
    "plt.show()"
   ]
  },
  {
   "cell_type": "code",
   "execution_count": 22,
   "metadata": {},
   "outputs": [
    {
     "data": {
      "image/png": "[encoded data removed]",
      "text/plain": [
       "<Figure size 432x288 with 1 Axes>"
      ]
     },
     "metadata": {},
     "output_type": "display_data"
    }
   ],
   "source": [
    "sns.set(style = 'darkgrid')\n",
    "sns.scatterplot(x = 'total_bill', y = 'tip', hue = 'smoker', style = 'sex', data = data)\n",
    "plt.xlabel('Total bill')\n",
    "plt.ylabel('Tip amount')\n",
    "plt.title('Total bill versus the tip amount')\n",
    "plt.show()"
   ]
  },
  {
   "cell_type": "markdown",
   "metadata": {},
   "source": [
    "**Seaborn is a high-level interface for building good looking statistical plots.** Refer to [this gallery](https://seaborn.pydata.org/examples/index.html) for more examples."
   ]
  },
  {
   "cell_type": "markdown",
   "metadata": {},
   "source": [
    "## Macros\n",
    "\n",
    "You can save code snippets as executable macros across all of your notebooks."
   ]
  },
  {
   "cell_type": "code",
   "execution_count": 48,
   "metadata": {},
   "outputs": [],
   "source": [
    "name = 'Mohammad'"
   ]
  },
  {
   "cell_type": "code",
   "execution_count": 49,
   "metadata": {},
   "outputs": [
    {
     "name": "stdout",
     "output_type": "stream",
     "text": [
      "Hello Mohammad!\n"
     ]
    }
   ],
   "source": [
    "print(f'Hello {name}!')"
   ]
  },
  {
   "cell_type": "code",
   "execution_count": 50,
   "metadata": {},
   "outputs": [
    {
     "name": "stdout",
     "output_type": "stream",
     "text": [
      "Stored '__hi' (Macro)\n"
     ]
    }
   ],
   "source": [
    "%macro -q __hi 49\n",
    "%store __hi"
   ]
  },
  {
   "cell_type": "code",
   "execution_count": 51,
   "metadata": {},
   "outputs": [
    {
     "name": "stdout",
     "output_type": "stream",
     "text": [
      "Stored variables and their in-db values:\n",
      "__hi               -> IPython.macro.Macro(\"print(f'Hello {name}!')\\n\")\n",
      "__name             -> IPython.macro.Macro(\"get_ipython().run_line_magic(\n"
     ]
    }
   ],
   "source": [
    "# List your saved items.\n",
    "%store"
   ]
  },
  {
   "cell_type": "code",
   "execution_count": 52,
   "metadata": {},
   "outputs": [
    {
     "name": "stdout",
     "output_type": "stream",
     "text": [
      "Hello Mohammad!\n"
     ]
    }
   ],
   "source": [
    "__hi"
   ]
  },
  {
   "cell_type": "code",
   "execution_count": 53,
   "metadata": {},
   "outputs": [],
   "source": [
    "name = 'Carl'"
   ]
  },
  {
   "cell_type": "code",
   "execution_count": 54,
   "metadata": {},
   "outputs": [
    {
     "name": "stdout",
     "output_type": "stream",
     "text": [
      "Hello Carl!\n"
     ]
    }
   ],
   "source": [
    "__hi"
   ]
  },
  {
   "cell_type": "code",
   "execution_count": null,
   "metadata": {},
   "outputs": [],
   "source": []
  }
 ],
 "metadata": {
  "kernelspec": {
   "display_name": "Python 3",
   "language": "python",
   "name": "python3"
  },
  "language_info": {
   "codemirror_mode": {
    "name": "ipython",
    "version": 3
   },
   "file_extension": ".py",
   "mimetype": "text/x-python",
   "name": "python",
   "nbconvert_exporter": "python",
   "pygments_lexer": "ipython3",
   "version": "3.8.10"
  }
 },
 "nbformat": 4,
 "nbformat_minor": 2
}
