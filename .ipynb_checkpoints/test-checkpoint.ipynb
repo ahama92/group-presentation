{
 "cells": [
  {
   "cell_type": "code",
   "execution_count": 24,
   "metadata": {},
   "outputs": [
    {
     "name": "stdout",
     "output_type": "stream",
     "text": [
      "18\n"
     ]
    }
   ],
   "source": [
    "a = 1\n",
    "a = a+1\n",
    "print(a)"
   ]
  },
  {
   "cell_type": "code",
   "execution_count": null,
   "metadata": {},
   "outputs": [],
   "source": []
  },
  {
   "cell_type": "markdown",
   "metadata": {},
   "source": [
    "# Title\n",
    "\n",
    "The answer of `a` is 5."
   ]
  },
  {
   "cell_type": "code",
   "execution_count": null,
   "metadata": {},
   "outputs": [],
   "source": []
  },
  {
   "cell_type": "code",
   "execution_count": 26,
   "metadata": {},
   "outputs": [
    {
     "name": "stdout",
     "output_type": "stream",
     "text": [
      "-8\n"
     ]
    }
   ],
   "source": [
    "b = 10\n",
    "c = b-a\n",
    "print(c)"
   ]
  },
  {
   "cell_type": "code",
   "execution_count": null,
   "metadata": {},
   "outputs": [],
   "source": []
  },
  {
   "cell_type": "code",
   "execution_count": null,
   "metadata": {},
   "outputs": [],
   "source": []
  },
  {
   "cell_type": "markdown",
   "metadata": {},
   "source": []
  },
  {
   "cell_type": "code",
   "execution_count": 1,
   "metadata": {},
   "outputs": [
    {
     "name": "stdout",
     "output_type": "stream",
     "text": [
      "0\n",
      "1\n",
      "2\n",
      "3\n"
     ]
    }
   ],
   "source": [
    "for i in range(4):\n",
    "    print(i)"
   ]
  },
  {
   "cell_type": "markdown",
   "metadata": {},
   "source": [
    "# Title\n",
    "\n",
    "## Heading 1\n",
    "\n",
    "### Heading 2\n",
    "\n",
    "#### Heading 3\n",
    "\n",
    "- item 1\n",
    "\n",
    "- item 2\n",
    "\n",
    "This is some normal text. \n",
    "\n",
    "*italic*\n",
    "\n",
    "**Bold**\n",
    "\n",
    "go to directory `/mnt/`\n",
    "\n",
    "\n",
    "\n",
    "```python\n",
    "for a in enumerate(items):\n",
    "    print(a)\n",
    "```\n",
    "\n",
    "\n",
    "\n",
    "This is C++ code.\n",
    "\n",
    "```c++\n",
    "int hi(){\n",
    "    return 0;\n",
    "}\n",
    "```\n",
    "\n",
    "\n",
    "Latex code,\n",
    "\n",
    "$E=mc^2$\n",
    "\n",
    "\\begin{equation}\n",
    "F = ma\n",
    "\\end{equation}\n",
    "\n",
    "\n",
    "\n",
    "Tables,\n",
    "\n",
    "| This | is   |\n",
    "|------|------|\n",
    "|   a  | table|\n",
    "\n",
    "\n",
    "\n",
    "This is some html code,\n",
    "\n",
    "<img src=\"https://cdn.shopify.com/s/files/1/0125/4952/products/IMG_0637_800x.jpg?v=1628485325\">"
   ]
  },
  {
   "cell_type": "code",
   "execution_count": null,
   "metadata": {},
   "outputs": [],
   "source": []
  }
 ],
 "metadata": {
  "kernelspec": {
   "display_name": "Python 3",
   "language": "python",
   "name": "python3"
  },
  "language_info": {
   "codemirror_mode": {
    "name": "ipython",
    "version": 3
   },
   "file_extension": ".py",
   "mimetype": "text/x-python",
   "name": "python",
   "nbconvert_exporter": "python",
   "pygments_lexer": "ipython3",
   "version": "3.8.10"
  }
 },
 "nbformat": 4,
 "nbformat_minor": 5
}
