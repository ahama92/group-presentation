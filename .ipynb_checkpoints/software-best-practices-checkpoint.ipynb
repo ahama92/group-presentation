{
 "cells": [
  {
   "cell_type": "markdown",
   "id": "33725cc3-791b-49fd-b562-2e6feb562d7e",
   "metadata": {},
   "source": [
    "valgrind/callgrind\n",
    "\n",
    "a simulating profiler which is very slow\n",
    "\n",
    "- Compile as normal\n",
    "\n",
    "- Then run the following,\n",
    "\n",
    "```console\n",
    "valgrind tool=callgrind\n",
    "```\n",
    " "
   ]
  },
  {
   "cell_type": "code",
   "execution_count": null,
   "id": "855fc96b-c135-4827-b327-c7573e88d47e",
   "metadata": {},
   "outputs": [],
   "source": []
  }
 ],
 "metadata": {
  "kernelspec": {
   "display_name": "Python 3 (ipykernel)",
   "language": "python",
   "name": "python3"
  },
  "language_info": {
   "codemirror_mode": {
    "name": "ipython",
    "version": 3
   },
   "file_extension": ".py",
   "mimetype": "text/x-python",
   "name": "python",
   "nbconvert_exporter": "python",
   "pygments_lexer": "ipython3",
   "version": "3.9.5"
  }
 },
 "nbformat": 4,
 "nbformat_minor": 5
}
