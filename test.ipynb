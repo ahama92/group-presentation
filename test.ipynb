{
 "cells": [
  {
   "cell_type": "code",
   "execution_count": 24,
   "id": "ab38c2c1-c99c-464d-8fbe-d36f1da661cd",
   "metadata": {},
   "outputs": [
    {
     "name": "stdout",
     "output_type": "stream",
     "text": [
      "18\n"
     ]
    }
   ],
   "source": [
    "a = a+1\n",
    "print(a)"
   ]
  },
  {
   "cell_type": "code",
   "execution_count": null,
   "id": "cfdad15b-2dc9-425f-affd-bcce20a891bc",
   "metadata": {},
   "outputs": [],
   "source": []
  },
  {
   "cell_type": "markdown",
   "id": "1371c093-34bb-4a79-b6d4-f3cfc8259d71",
   "metadata": {},
   "source": [
    "# Title\n",
    "\n",
    "The answer of `a` is 5."
   ]
  },
  {
   "cell_type": "code",
   "execution_count": null,
   "id": "b7243128-df9b-4fd1-a400-19e3eae32785",
   "metadata": {},
   "outputs": [],
   "source": []
  },
  {
   "cell_type": "code",
   "execution_count": 26,
   "id": "e632f9cf-58ec-464c-b329-d190883f2500",
   "metadata": {},
   "outputs": [
    {
     "name": "stdout",
     "output_type": "stream",
     "text": [
      "-8\n"
     ]
    }
   ],
   "source": [
    "b = 10\n",
    "c = b-a\n",
    "print(c)"
   ]
  },
  {
   "cell_type": "code",
   "execution_count": null,
   "id": "242588e4-8f43-4625-87d5-79c030f19ffd",
   "metadata": {},
   "outputs": [],
   "source": []
  },
  {
   "cell_type": "code",
   "execution_count": null,
   "id": "5db1274c-3b92-4cf4-9e5f-bc0c2f3f7294",
   "metadata": {},
   "outputs": [],
   "source": []
  },
  {
   "cell_type": "markdown",
   "id": "21a5b77f-1533-4567-a104-53f7c002fe68",
   "metadata": {},
   "source": []
  },
  {
   "cell_type": "code",
   "execution_count": 28,
   "id": "7128b3fc-2b75-43ce-8e70-a77e03a4d114",
   "metadata": {},
   "outputs": [
    {
     "name": "stdout",
     "output_type": "stream",
     "text": [
      "0\n",
      "1\n",
      "2\n",
      "3\n",
      "4\n",
      "5\n",
      "6\n",
      "7\n",
      "8\n",
      "9\n"
     ]
    }
   ],
   "source": [
    "for i in range(10):\n",
    "    print(i)"
   ]
  },
  {
   "cell_type": "markdown",
   "id": "c45a9bc8-daf3-4816-913c-2e1a0c060c87",
   "metadata": {},
   "source": [
    "# Title\n",
    "\n",
    "## Heading 1\n",
    "\n",
    "### Heading 2\n",
    "\n",
    "#### Heading 3\n",
    "\n",
    "- item 1\n",
    "\n",
    "- item 2\n",
    "\n",
    "This is some normal text. \n",
    "\n",
    "*italic*\n",
    "\n",
    "**Bold**\n",
    "\n",
    "go to directory `/mnt/`\n",
    "\n",
    "\n",
    "\n",
    "```python\n",
    "for a in enumerate(items):\n",
    "    print(a)\n",
    "```\n",
    "\n",
    "\n",
    "\n",
    "This is C++ code.\n",
    "\n",
    "```c++\n",
    "int hi(){\n",
    "    return 0;\n",
    "}\n",
    "```\n",
    "\n",
    "\n",
    "Latex code,\n",
    "\n",
    "$E=mc^2$\n",
    "\n",
    "\\begin{equation}\n",
    "F = ma\n",
    "\\end{equation}\n",
    "\n",
    "\n",
    "\n",
    "Tables,\n",
    "\n",
    "| This | is   |\n",
    "|------|------|\n",
    "|   a  | table|\n",
    "\n",
    "\n",
    "\n",
    "This is some html code,\n",
    "\n",
    "<img src=\"https://cdn.shopify.com/s/files/1/0125/4952/products/IMG_0637_800x.jpg?v=1628485325\">"
   ]
  },
  {
   "cell_type": "code",
   "execution_count": null,
   "id": "b3875d4a-3926-46b5-a03f-6e5935830176",
   "metadata": {},
   "outputs": [],
   "source": []
  }
 ],
 "metadata": {
  "kernelspec": {
   "display_name": "Python 3 (ipykernel)",
   "language": "python",
   "name": "python3"
  },
  "language_info": {
   "codemirror_mode": {
    "name": "ipython",
    "version": 3
   },
   "file_extension": ".py",
   "mimetype": "text/x-python",
   "name": "python",
   "nbconvert_exporter": "python",
   "pygments_lexer": "ipython3",
   "version": "3.9.5"
  }
 },
 "nbformat": 4,
 "nbformat_minor": 5
}
